{
 "cells": [
  {
   "cell_type": "code",
   "execution_count": null,
   "metadata": {
    "collapsed": true
   },
   "outputs": [],
   "source": [
    "from datetime import date\n",
    "import pprint\n",
    "\n",
    "import awswrangler as wr\n",
    "import pandas as pd\n",
    "from tqdm import tqdm\n",
    "from super_secret_package import SUPER_SECRET_FUNCTIONS\n",
    "\n",
    "from IPython.display import display\n",
    "\n",
    "S3_BASE_PATH = \"s3://aws-wrangler-test-bucket/demo\"\n",
    "pp = pprint.PrettyPrinter(indent=4)"
   ]
  },
  {
   "cell_type": "markdown",
   "source": [
    "## Generating Input DataFrame"
   ],
   "metadata": {
    "collapsed": false
   }
  },
  {
   "cell_type": "code",
   "execution_count": null,
   "outputs": [],
   "source": [
    "data = []\n",
    "nb_of_ids = 100_000\n",
    "secret_factor = 10_000\n",
    "\n",
    "for day in tqdm(range(1, 11)):\n",
    "    for id_ in range(nb_of_ids):\n",
    "        data.append(\n",
    "            {\n",
    "                \"value\": SUPER_SECRET_FUNCTIONS[id_ % 5]((day - 1) * nb_of_ids / secret_factor + id_ / secret_factor),\n",
    "                \"id\": id_,\n",
    "                \"date\": date(2021, 5, day)\n",
    "            }\n",
    "        )\n",
    "input_df = pd.DataFrame(data)\n",
    "input_df[\"value\"] = input_df[\"value\"].astype(\"float\")"
   ],
   "metadata": {
    "collapsed": false,
    "pycharm": {
     "name": "#%%\n"
    }
   }
  },
  {
   "cell_type": "markdown",
   "source": [
    "### Showing some information about the df"
   ],
   "metadata": {
    "collapsed": false,
    "pycharm": {
     "name": "#%% md\n"
    }
   }
  },
  {
   "cell_type": "code",
   "execution_count": null,
   "outputs": [],
   "source": [
    "def show_df_info(info_df):\n",
    "    display(info_df)\n",
    "    print(info_df.describe())\n",
    "    display(info_df.info())\n",
    "\n",
    "show_df_info(input_df.copy())"
   ],
   "metadata": {
    "collapsed": false,
    "pycharm": {
     "name": "#%%\n"
    }
   }
  },
  {
   "cell_type": "markdown",
   "source": [
    "## Starting with awswrangler\n",
    "### Storing on S3"
   ],
   "metadata": {
    "collapsed": false,
    "pycharm": {
     "name": "#%% md\n"
    }
   }
  },
  {
   "cell_type": "code",
   "execution_count": null,
   "outputs": [],
   "source": [
    "%%time\n",
    "\n",
    "wr.s3.to_parquet(\n",
    "    df=input_df.copy(),\n",
    "    path=f\"{S3_BASE_PATH}/base.pq\"\n",
    ")"
   ],
   "metadata": {
    "collapsed": false,
    "pycharm": {
     "name": "#%%\n"
    }
   }
  },
  {
   "cell_type": "markdown",
   "source": [
    "### Reading from S3"
   ],
   "metadata": {
    "collapsed": false
   }
  },
  {
   "cell_type": "code",
   "execution_count": null,
   "outputs": [],
   "source": [
    "%%time\n",
    "df_loaded = wr.s3.read_parquet([f\"{S3_BASE_PATH}/base.pq\"])"
   ],
   "metadata": {
    "collapsed": false,
    "pycharm": {
     "name": "#%%\n"
    }
   }
  },
  {
   "cell_type": "code",
   "execution_count": null,
   "outputs": [],
   "source": [
    "show_df_info(df_loaded)"
   ],
   "metadata": {
    "collapsed": false,
    "pycharm": {
     "name": "#%%\n"
    }
   }
  },
  {
   "cell_type": "markdown",
   "source": [
    "### Fancier storing strategies (Partitioning and Bucketing)"
   ],
   "metadata": {
    "collapsed": false,
    "pycharm": {
     "name": "#%% md\n"
    }
   }
  },
  {
   "cell_type": "code",
   "execution_count": null,
   "outputs": [],
   "source": [
    "%%time\n",
    "wr.s3.to_parquet(\n",
    "    df=input_df.copy(),\n",
    "    path=f\"{S3_BASE_PATH}/partitioned\",\n",
    "    partition_cols=[\"date\"],\n",
    "    dataset=True\n",
    ")"
   ],
   "metadata": {
    "collapsed": false,
    "pycharm": {
     "name": "#%%\n"
    }
   }
  },
  {
   "cell_type": "code",
   "execution_count": null,
   "outputs": [],
   "source": [
    "%%time\n",
    "wr.s3.to_parquet(\n",
    "    df=input_df.copy(),\n",
    "    path=f\"{S3_BASE_PATH}/partitioned\",\n",
    "    partition_cols=[\"date\"],\n",
    "    dataset=True,\n",
    "    mode=\"overwrite\",\n",
    "    concurrent_partitioning=True\n",
    ")"
   ],
   "metadata": {
    "collapsed": false,
    "pycharm": {
     "name": "#%%\n"
    }
   }
  },
  {
   "cell_type": "code",
   "execution_count": null,
   "outputs": [],
   "source": [
    "%%time\n",
    "df_loaded = wr.s3.read_parquet(f\"{S3_BASE_PATH}/partitioned\", dataset=True)\n",
    "df_loaded.info()"
   ],
   "metadata": {
    "collapsed": false,
    "pycharm": {
     "name": "#%%\n"
    }
   }
  },
  {
   "cell_type": "code",
   "execution_count": null,
   "outputs": [],
   "source": [
    "%%time\n",
    "df_loaded = wr.s3.read_parquet(\n",
    "    f\"{S3_BASE_PATH}/partitioned\",\n",
    "    partition_filter=lambda x: True if x[\"date\"] == \"2021-05-04\" else False,\n",
    "    dataset=True\n",
    ")\n",
    "df_loaded.info()\n"
   ],
   "metadata": {
    "collapsed": false,
    "pycharm": {
     "name": "#%%\n"
    }
   }
  },
  {
   "cell_type": "markdown",
   "source": [
    "### Bucketing"
   ],
   "metadata": {
    "collapsed": false,
    "pycharm": {
     "name": "#%% md\n"
    }
   }
  },
  {
   "cell_type": "code",
   "execution_count": null,
   "outputs": [],
   "source": [
    "%%time\n",
    "wr.s3.to_parquet(\n",
    "    df=input_df.copy(),\n",
    "    path=f\"{S3_BASE_PATH}/bucketed\",\n",
    "    bucketing_info=([\"id\"], 5),\n",
    "    dataset=True\n",
    ")"
   ],
   "metadata": {
    "collapsed": false,
    "pycharm": {
     "name": "#%%\n"
    }
   }
  },
  {
   "cell_type": "code",
   "execution_count": null,
   "outputs": [],
   "source": [
    "input_df.copy().info()"
   ],
   "metadata": {
    "collapsed": false,
    "pycharm": {
     "name": "#%%\n"
    }
   }
  },
  {
   "cell_type": "markdown",
   "source": [
    "### Combined Partitioning and Bucketing"
   ],
   "metadata": {
    "collapsed": false,
    "pycharm": {
     "name": "#%% md\n"
    }
   }
  },
  {
   "cell_type": "code",
   "execution_count": null,
   "outputs": [],
   "source": [
    "%%time\n",
    "wr.s3.to_parquet(\n",
    "    df=input_df.copy(),\n",
    "    path=f\"{S3_BASE_PATH}/par_bucketed\",\n",
    "    partition_cols=[\"date\"],\n",
    "    bucketing_info=([\"id\"], 5),\n",
    "    dataset=True\n",
    ")\n"
   ],
   "metadata": {
    "collapsed": false,
    "pycharm": {
     "name": "#%%\n"
    }
   }
  },
  {
   "cell_type": "markdown",
   "source": [
    "## Use integration with Glue and Athena"
   ],
   "metadata": {
    "collapsed": false,
    "pycharm": {
     "name": "#%% md\n"
    }
   }
  },
  {
   "cell_type": "code",
   "execution_count": null,
   "outputs": [],
   "source": [
    "database = \"mydatabase\"\n",
    "table = \"par_and_bucket_test\"\n",
    "base_table = \"base_demo_table\""
   ],
   "metadata": {
    "collapsed": false,
    "pycharm": {
     "name": "#%%\n"
    }
   }
  },
  {
   "cell_type": "code",
   "execution_count": null,
   "outputs": [],
   "source": [
    "%%time\n",
    "wr.s3.to_parquet(\n",
    "    df=input_df.copy(),\n",
    "    path=f\"{S3_BASE_PATH}/par_bucketed\",\n",
    "    partition_cols=[\"date\"],\n",
    "    bucketing_info=([\"id\"], 5),\n",
    "    dataset=True,\n",
    "    mode=\"overwrite\",\n",
    "    concurrent_partitioning=True,\n",
    "    database=database,\n",
    "    table=table\n",
    ")"
   ],
   "metadata": {
    "collapsed": false,
    "pycharm": {
     "name": "#%%\n"
    }
   }
  },
  {
   "cell_type": "code",
   "execution_count": null,
   "outputs": [],
   "source": [
    "%%time\n",
    "wr.s3.to_parquet(\n",
    "    df=input_df.copy(),\n",
    "    path=f\"{S3_BASE_PATH}/base.pq\",\n",
    "    dataset=True,\n",
    "    mode=\"overwrite\",\n",
    "    database=database,\n",
    "    table=base_table\n",
    ")"
   ],
   "metadata": {
    "collapsed": false,
    "pycharm": {
     "name": "#%%\n"
    }
   }
  },
  {
   "cell_type": "code",
   "execution_count": null,
   "outputs": [],
   "source": [
    "wr.catalog.table(database=database, table=table)\n"
   ],
   "metadata": {
    "collapsed": false,
    "pycharm": {
     "name": "#%%\n"
    }
   }
  },
  {
   "cell_type": "code",
   "execution_count": null,
   "outputs": [],
   "source": [
    "df_athena = wr.athena.read_sql_table(table=table, database=database)\n",
    "pp.pprint(df_athena.query_metadata)"
   ],
   "metadata": {
    "collapsed": false,
    "pycharm": {
     "name": "#%%\n"
    }
   }
  },
  {
   "cell_type": "code",
   "execution_count": null,
   "outputs": [],
   "source": [
    "queries = [\n",
    "    f\"SELECT * FROM {table} LIMIT 100;\",\n",
    "    f\"SELECT * FROM {table} WHERE id = 1000;\",\n",
    "    f\"SELECT * FROM {base_table} WHERE id = 1000;\",\n",
    "    f\"SELECT * FROM {table} WHERE date = DATE('2021-05-04')\",\n",
    "    f\"SELECT * FROM {base_table} WHERE date = DATE('2021-05-04')\",\n",
    "]"
   ],
   "metadata": {
    "collapsed": false,
    "pycharm": {
     "name": "#%%\n"
    }
   }
  },
  {
   "cell_type": "code",
   "execution_count": null,
   "outputs": [],
   "source": [
    "df_athena = wr.athena.read_sql_query(sql=queries[0], database=database, ctas_approach=False)\n",
    "pp.pprint(df_athena.query_metadata)\n"
   ],
   "metadata": {
    "collapsed": false,
    "pycharm": {
     "name": "#%%\n"
    }
   }
  },
  {
   "cell_type": "markdown",
   "source": [
    "## Let's see what's up with the secret functions"
   ],
   "metadata": {
    "collapsed": false,
    "pycharm": {
     "name": "#%% md\n"
    }
   }
  },
  {
   "cell_type": "code",
   "execution_count": null,
   "outputs": [],
   "source": [
    "secret_number = 4\n",
    "df_secret = wr.athena.read_sql_query(sql=f\"SELECT * FROM {table} WHERE id % 5 = {secret_number};\", database=database)\n",
    "df_secret = df_secret.sort_values([\"date\", \"id\"])\n",
    "df_secret = df_secret.reset_index(drop=True)\n",
    "df_secret[\"value\"].plot(figsize=(16,9))"
   ],
   "metadata": {
    "collapsed": false,
    "pycharm": {
     "name": "#%%\n"
    }
   }
  },
  {
   "cell_type": "markdown",
   "source": [
    "## Cleanup"
   ],
   "metadata": {
    "collapsed": false,
    "pycharm": {
     "name": "#%% md\n"
    }
   }
  },
  {
   "cell_type": "code",
   "execution_count": null,
   "outputs": [],
   "source": [
    "wr.s3.delete_objects(S3_BASE_PATH)\n"
   ],
   "metadata": {
    "collapsed": false,
    "pycharm": {
     "name": "#%%\n"
    }
   }
  },
  {
   "cell_type": "markdown",
   "source": [
    "## Addon Cloudwatch"
   ],
   "metadata": {
    "collapsed": false,
    "pycharm": {
     "name": "#%% md\n"
    }
   }
  },
  {
   "cell_type": "code",
   "execution_count": null,
   "outputs": [],
   "source": [
    "logs_df = wr.cloudwatch.read_logs(\n",
    "    query=\"fields @timestamp, @message | sort @timestamp desc | limit 200\",\n",
    "    log_group_names=[\"/aws/lambda/my-hello-world\"]\n",
    ")\n",
    "logs_df"
   ],
   "metadata": {
    "collapsed": false,
    "pycharm": {
     "name": "#%%\n"
    }
   }
  }
 ],
 "metadata": {
  "kernelspec": {
   "display_name": "Python 3",
   "language": "python",
   "name": "python3"
  },
  "language_info": {
   "codemirror_mode": {
    "name": "ipython",
    "version": 2
   },
   "file_extension": ".py",
   "mimetype": "text/x-python",
   "name": "python",
   "nbconvert_exporter": "python",
   "pygments_lexer": "ipython2",
   "version": "2.7.6"
  }
 },
 "nbformat": 4,
 "nbformat_minor": 0
}